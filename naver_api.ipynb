{
 "cells": [
  {
   "cell_type": "code",
   "execution_count": 1,
   "source": [
    "import numpy as np\r\n",
    "import pandas as pd\r\n",
    "import os\r\n",
    "import sys\r\n",
    "import urllib.request"
   ],
   "outputs": [],
   "metadata": {}
  },
  {
   "cell_type": "code",
   "execution_count": 2,
   "source": [
    "df = pd.read_csv('model_data/추가된_영화명(블로그,한줄평필요).csv')\r\n",
    "#df.drop(['Unnamed: 0'], axis=1, inplace=True)\r\n",
    "df.info()"
   ],
   "outputs": [
    {
     "output_type": "stream",
     "name": "stdout",
     "text": [
      "<class 'pandas.core.frame.DataFrame'>\n",
      "RangeIndex: 98 entries, 0 to 97\n",
      "Data columns (total 22 columns):\n",
      " #   Column      Non-Null Count  Dtype  \n",
      "---  ------      --------------  -----  \n",
      " 0   Unnamed: 0  98 non-null     int64  \n",
      " 1   순위          98 non-null     float64\n",
      " 2   영화명         98 non-null     object \n",
      " 3   매출액         91 non-null     float64\n",
      " 4   관객수         98 non-null     int64  \n",
      " 5   스크린수        98 non-null     int64  \n",
      " 6   감독          98 non-null     object \n",
      " 7   등급          96 non-null     object \n",
      " 8   관람객평점       98 non-null     object \n",
      " 9   네티즌평점       97 non-null     float64\n",
      " 10  장르          98 non-null     object \n",
      " 11  국적          98 non-null     object \n",
      " 12  개봉일         97 non-null     object \n",
      " 13  추천          98 non-null     object \n",
      " 14  10대 비율      98 non-null     object \n",
      " 15  20대 비율      98 non-null     object \n",
      " 16  30대 비율      98 non-null     object \n",
      " 17  40대 비율      98 non-null     object \n",
      " 18  50대 비율      98 non-null     object \n",
      " 19  남성 만족도      98 non-null     float64\n",
      " 20  여성 만족도      98 non-null     float64\n",
      " 21  Na          0 non-null      float64\n",
      "dtypes: float64(6), int64(3), object(13)\n",
      "memory usage: 17.0+ KB\n"
     ]
    }
   ],
   "metadata": {}
  },
  {
   "cell_type": "code",
   "execution_count": 5,
   "source": [
    "titles = df['영화명'].values.tolist()\r\n",
    "print(titles)"
   ],
   "outputs": [
    {
     "output_type": "stream",
     "name": "stdout",
     "text": [
      "['레드 드래곤', '레지던트 이블', '로드 투 퍼디션', '루키', '리멤버 타이탄', '리플리', '마이너리티 리포트', '말레나', '매그놀리아', '맨 오브 오너', '메멘토', '무사', '미션', '바닐라 스카이', '바람계곡의 나우시카', '바스켓볼 다이어리', '바이센테니얼 맨', '박하사탕', '반칙왕', '버스, 정류장', '복수는 나의 것', '본 아이덴티티', '봄날은 간다', '부에나 비스타 소셜 클럽', '분노의 질주', '불가사리', '뷰티풀 마인드', '브리짓 존스의 일기', '블랙 호크 다운', '블레이드 2', '빌리 엘리어트', '선물', '성원', '센과 치히로의 행방불명', '소림축구', '슈렉', '스내치', '스워드피쉬', '스파이더맨', '스피릿', '슬리피 할로우', '시월애', '아나키스트', '아름다운 세상을 위하여', '아메리칸 뷰티', '아메리칸 싸이코', '아멜리에', '아모레스 페로스', '아이 엠 샘', '아이스 에이지', '어바웃 어 보이', '언페이스풀', '에너미 라인스', '에너미 앳 더 게이트', '에린 브로코비치', '여고괴담 두번째 이야기', '연애소설', '엽기적인 그녀', '오버 더 레인보우', '오아시스', '와니와 준하', '와이키키 브라더스', '와호장룡', '왓 위민 원트', '워크 투 리멤버', '위 워 솔저스', '위대한 독재자', '이웃집 토토로', '인사이더', '존 말코비치 되기', '존 큐', '진주만', '집으로...', '처음 만나는 자유', '철도원', '초콜릿', '취화선', '치킨 런', '친구', '캐스트 어웨이', '코요테 어글리', '키스 오브 드래곤', '키즈 리턴', '킬러들의 수다', '토이 스토리 2', '트레이닝 데이', '파이란', '파인딩 포레스터', '프리퀀시', '프릭스', '프린스 앤 프린세스', '플란다스의 개', '핫 칙', '헤드윅', '혹성탈출', '화양연화', '희극지왕', '4월 이야기']\n"
     ]
    }
   ],
   "metadata": {}
  },
  {
   "cell_type": "code",
   "execution_count": 7,
   "source": [
    "names, descriptions = [], []\r\n",
    "\r\n",
    "client_id = \"PAf2CCYGHM8Kt8DmajqG\"\r\n",
    "client_secret = \"HybokOXw09\"\r\n",
    "\r\n",
    "for i, title in enumerate(titles):\r\n",
    "    try:\r\n",
    "        encText = urllib.parse.quote(title)\r\n",
    "        url = \"https://openapi.naver.com/v1/search/blog?query=\" + encText # json 결과\r\n",
    "        # url = \"https://openapi.naver.com/v1/search/blog.xml?query=\" + encText # xml 결과\r\n",
    "        request = urllib.request.Request(url)\r\n",
    "        request.add_header(\"X-Naver-Client-Id\",client_id)\r\n",
    "        request.add_header(\"X-Naver-Client-Secret\",client_secret)\r\n",
    "        response = urllib.request.urlopen(request)\r\n",
    "        rescode = response.getcode()\r\n",
    "        if(rescode==200):\r\n",
    "            response_body = response.read()\r\n",
    "            #print(response_body.decode('utf-8'))\r\n",
    "            results = eval(response_body.decode('utf-8'))['items']\r\n",
    "\r\n",
    "            descrs = []\r\n",
    "            for result in results:\r\n",
    "                descr = result['description']\r\n",
    "                descrs.append(descr)\r\n",
    "            \r\n",
    "        else:\r\n",
    "            print(\"Error Code:\" + rescode)\r\n",
    "\r\n",
    "        names.append(title)\r\n",
    "        descriptions.append(descrs)\r\n",
    "\r\n",
    "    except:\r\n",
    "        print(f'{i} : {title}')       "
   ],
   "outputs": [],
   "metadata": {}
  },
  {
   "cell_type": "code",
   "execution_count": 9,
   "source": [
    "df = pd.DataFrame({'영화명':names, '블로그리뷰':descriptions})\r\n",
    "df['블로그리뷰'] = df['블로그리뷰'].apply(lambda x : ' '.join(x))\r\n",
    "df.iloc[:: 10, :]"
   ],
   "outputs": [
    {
     "output_type": "execute_result",
     "data": {
      "text/html": [
       "<div>\n",
       "<style scoped>\n",
       "    .dataframe tbody tr th:only-of-type {\n",
       "        vertical-align: middle;\n",
       "    }\n",
       "\n",
       "    .dataframe tbody tr th {\n",
       "        vertical-align: top;\n",
       "    }\n",
       "\n",
       "    .dataframe thead th {\n",
       "        text-align: right;\n",
       "    }\n",
       "</style>\n",
       "<table border=\"1\" class=\"dataframe\">\n",
       "  <thead>\n",
       "    <tr style=\"text-align: right;\">\n",
       "      <th></th>\n",
       "      <th>영화명</th>\n",
       "      <th>블로그리뷰</th>\n",
       "    </tr>\n",
       "  </thead>\n",
       "  <tbody>\n",
       "    <tr>\n",
       "      <th>0</th>\n",
       "      <td>레드 드래곤</td>\n",
       "      <td>제목은 '&lt;b&gt;레드 드래곤&lt;/b&gt;'. 2001년 개봉작이며 많은 분들께서 익히 알고...</td>\n",
       "    </tr>\n",
       "    <tr>\n",
       "      <th>10</th>\n",
       "      <td>메멘토</td>\n",
       "      <td>&lt;b&gt;메멘토&lt;/b&gt; 모리(Memento Mori) 자신의 죽음을 기억하라 로마 시대...</td>\n",
       "    </tr>\n",
       "    <tr>\n",
       "      <th>20</th>\n",
       "      <td>복수는 나의 것</td>\n",
       "      <td>위한 &lt;b&gt;복수&lt;/b&gt;인지 모호해진다. 영화 중간중간 청각장애인인 류의 시점에서 보...</td>\n",
       "    </tr>\n",
       "    <tr>\n",
       "      <th>30</th>\n",
       "      <td>빌리 엘리어트</td>\n",
       "      <td>결말인 &amp;lt;&lt;b&gt;빌리 엘리어트&lt;/b&gt;&amp;gt;는 해피엔딩인데도 왜 울적한 것일까?...</td>\n",
       "    </tr>\n",
       "    <tr>\n",
       "      <th>40</th>\n",
       "      <td>슬리피 할로우</td>\n",
       "      <td>&lt;b&gt;슬리피 할로우&lt;/b&gt; Sleepy Hollow 1999 색다른 공포 어때? 비...</td>\n",
       "    </tr>\n",
       "    <tr>\n",
       "      <th>50</th>\n",
       "      <td>어바웃 어 보이</td>\n",
       "      <td>&amp;lt;&lt;b&gt;어바웃 어 보이&lt;/b&gt;(About A Boy)&amp;gt; 윌은 무엇하나 부...</td>\n",
       "    </tr>\n",
       "    <tr>\n",
       "      <th>60</th>\n",
       "      <td>와니와 준하</td>\n",
       "      <td>&lt;b&gt;와니와 준하&lt;/b&gt;는 올해 20주년을 맞은 영화로 2000년대 초, 한창 멜로...</td>\n",
       "    </tr>\n",
       "    <tr>\n",
       "      <th>70</th>\n",
       "      <td>존 큐</td>\n",
       "      <td>오늘은 &lt;b&gt;존 큐&lt;/b&gt;라는 무려 18년 전의 영화를 보았습니다. 넷플릭스는 진심...</td>\n",
       "    </tr>\n",
       "    <tr>\n",
       "      <th>80</th>\n",
       "      <td>코요테 어글리</td>\n",
       "      <td>&amp;lt;&lt;b&gt;코요테 어글리&lt;/b&gt;&amp;gt;와 &amp;lt;어글리 우먼&amp;gt; 이렇게 두 편...</td>\n",
       "    </tr>\n",
       "    <tr>\n",
       "      <th>90</th>\n",
       "      <td>프린스 앤 프린세스</td>\n",
       "      <td>번째, &lt;b&gt;프린스 앤 프린세스&lt;/b&gt; Princes and Princesses 미...</td>\n",
       "    </tr>\n",
       "  </tbody>\n",
       "</table>\n",
       "</div>"
      ],
      "text/plain": [
       "           영화명                                              블로그리뷰\n",
       "0       레드 드래곤  제목은 '<b>레드 드래곤</b>'. 2001년 개봉작이며 많은 분들께서 익히 알고...\n",
       "10         메멘토  <b>메멘토</b> 모리(Memento Mori) 자신의 죽음을 기억하라 로마 시대...\n",
       "20    복수는 나의 것  위한 <b>복수</b>인지 모호해진다. 영화 중간중간 청각장애인인 류의 시점에서 보...\n",
       "30     빌리 엘리어트  결말인 &lt;<b>빌리 엘리어트</b>&gt;는 해피엔딩인데도 왜 울적한 것일까?...\n",
       "40     슬리피 할로우  <b>슬리피 할로우</b> Sleepy Hollow 1999 색다른 공포 어때? 비...\n",
       "50    어바웃 어 보이  &lt;<b>어바웃 어 보이</b>(About A Boy)&gt; 윌은 무엇하나 부...\n",
       "60      와니와 준하  <b>와니와 준하</b>는 올해 20주년을 맞은 영화로 2000년대 초, 한창 멜로...\n",
       "70         존 큐  오늘은 <b>존 큐</b>라는 무려 18년 전의 영화를 보았습니다. 넷플릭스는 진심...\n",
       "80     코요테 어글리  &lt;<b>코요테 어글리</b>&gt;와 &lt;어글리 우먼&gt; 이렇게 두 편...\n",
       "90  프린스 앤 프린세스  번째, <b>프린스 앤 프린세스</b> Princes and Princesses 미..."
      ]
     },
     "metadata": {},
     "execution_count": 9
    }
   ],
   "metadata": {}
  },
  {
   "cell_type": "code",
   "execution_count": 12,
   "source": [
    "df['블로그리뷰'].str.len().min(), df['블로그리뷰'].str.len().max()"
   ],
   "outputs": [
    {
     "output_type": "execute_result",
     "data": {
      "text/plain": [
       "(1245, 1513)"
      ]
     },
     "metadata": {},
     "execution_count": 12
    }
   ],
   "metadata": {}
  },
  {
   "cell_type": "code",
   "execution_count": 14,
   "source": [
    "df.to_csv('model_data/추가된_영화.csv', index=False)"
   ],
   "outputs": [],
   "metadata": {}
  },
  {
   "cell_type": "code",
   "execution_count": 23,
   "source": [
    "title = '레드 드래곤'\r\n",
    "encText = urllib.parse.quote(title)\r\n",
    "url = \"https://openapi.naver.com/v1/search/blog?query=\" + encText # json 결과\r\n",
    "# url = \"https://openapi.naver.com/v1/search/blog.xml?query=\" + encText # xml 결과\r\n",
    "request = urllib.request.Request(url)\r\n",
    "request.add_header(\"X-Naver-Client-Id\",client_id)\r\n",
    "request.add_header(\"X-Naver-Client-Secret\",client_secret)\r\n",
    "response = urllib.request.urlopen(request)\r\n",
    "rescode = response.getcode()\r\n",
    "if(rescode==200):\r\n",
    "    response_body = response.read()\r\n",
    "    #print(response_body.decode('utf-8'))\r\n",
    "    results = eval(response_body.decode('utf-8'))\r\n",
    "\r\n",
    "    descrs = []\r\n",
    "    for result in results['items']:\r\n",
    "        descr = result['description']\r\n",
    "        descrs.append(descr)\r\n",
    "    \r\n",
    "else:\r\n",
    "    print(\"Error Code:\" + rescode)"
   ],
   "outputs": [],
   "metadata": {}
  },
  {
   "cell_type": "code",
   "execution_count": 27,
   "source": [
    "results"
   ],
   "outputs": [
    {
     "output_type": "execute_result",
     "data": {
      "text/plain": [
       "{'lastBuildDate': 'Sat, 02 Oct 2021 11:31:50 +0900',\n",
       " 'total': 19151,\n",
       " 'start': 1,\n",
       " 'display': 10,\n",
       " 'items': [{'title': \"영화 '<b>레드 드래곤</b>' 연쇄살인마 장르의 수작\",\n",
       "   'link': 'https:\\\\/\\\\/blog.naver.com\\\\/mudoidoi?Redirect=Log&logNo=222347649815',\n",
       "   'description': \"제목은 '<b>레드 드래곤</b>'. 2001년 개봉작이며 많은 분들께서 익히 알고 계실 '한니발 렉터' 시리즈 중 1편에... 개인적으로 한니발 렉터 시리즈 4편 중 3편의 책을 다 읽었는데 첫 편에 해당하는 <b>레드 드래곤</b>이 가장... \",\n",
       "   'bloggername': '돈내고사먹읍시다(舊Serendipity)',\n",
       "   'bloggerlink': 'https://blog.naver.com/mudoidoi',\n",
       "   'postdate': '20210522'},\n",
       "  {'title': '&lt;맨헌터&gt; vs &lt;<b>레드 드래곤</b>&gt;',\n",
       "   'link': 'https:\\\\/\\\\/blog.naver.com\\\\/harukii72?Redirect=Log&logNo=222324513475',\n",
       "   'description': '&lt;맨헌터&gt; vs &lt;<b>레드 드래곤</b>&gt; “그레이엄 자네는 날 두려워하면서도 여기에 오잖아. 자네는 이 수줍은 녀석... 공포는 이런 상상력의 대가지만 자네가 이겨낼 수 있게 내가 도와줄 수 있지...“ - &lt;<b>레드 드래곤</b>&gt; 중... ',\n",
       "   'bloggername': '하드보일드 원더랜드',\n",
       "   'bloggerlink': 'https://blog.naver.com/harukii72',\n",
       "   'postdate': '20210427'},\n",
       "  {'title': '영화 <b>레드 드래곤</b> – 계획적으로 가족 모두를 살해하는... ',\n",
       "   'link': 'https:\\\\/\\\\/blog.naver.com\\\\/khk629105?Redirect=Log&logNo=222435845077',\n",
       "   'description': '영화 <b>레드 드래곤</b> – 계획적으로 가족 모두를 살해하는 연쇄살인범 <b>레드 드래곤</b> 정보 개요: 범죄, 미스터리, 스릴러/ 미국/ 124분 개봉: 2002. 11. 06. 감독: 브렛 래트너 주연: 안소니 홉킨스(한니발 렉터)/ 에드워드... ',\n",
       "   'bloggername': '김홍걸강사',\n",
       "   'bloggerlink': 'https://blog.naver.com/khk629105',\n",
       "   'postdate': '20210718'},\n",
       "  {'title': 'MG 아스트레이 <b>레드 드래곤</b> 조립 후기',\n",
       "   'link': 'https:\\\\/\\\\/blog.naver.com\\\\/ss1549ss?Redirect=Log&logNo=221676358482',\n",
       "   'description': '버카 붙이다가 턴 레드랑 <b>레드 드래곤</b> 보니 너무 편안합니다. 버카가 데칼이 너무 많은거야... 카토키 이 녀석아... 액션 포즈~ 정말 멋있습니다. 한정판의 가치가 있는 키트입니다. 종합적인 감상으로는... ',\n",
       "   'bloggername': '*블로그 제목이 없습니다*',\n",
       "   'bloggerlink': 'https://blog.naver.com/ss1549ss',\n",
       "   'postdate': '20191013'},\n",
       "  {'title': '[가조립] MG 아스트레이 <b>레드드래곤</b>',\n",
       "   'link': 'https:\\\\/\\\\/blog.naver.com\\\\/kirk147?Redirect=Log&logNo=222279778342',\n",
       "   'description': '플라이트팩은 와이프한테 만들어라고 다시 프라탑에 모셔두고 <b>레드드래곤</b>만 꺼내서 백팩만 만들려고 한 찰나....가만히 보니 내꺼 레드프레임 소체가 하나도 없다 ㅋ 블프 서드 컨버전 소체로 사용할 블프만... ',\n",
       "   'bloggername': '[뒷골목의 우주소년]',\n",
       "   'bloggerlink': 'https://blog.naver.com/kirk147',\n",
       "   'postdate': '20210318'},\n",
       "  {'title': '[MG] 아스트레이 <b>레드드래곤</b> - PART.1',\n",
       "   'link': 'https:\\\\/\\\\/blog.naver.com\\\\/jgh930309?Redirect=Log&logNo=222490706298',\n",
       "   'description': '하고보니 소체는 달라진게 없네요....? 이번 포스팅은 살짝 날로먹은 듯 합니다. 내일은 <b>레드드래곤</b>의 꽃인 플라이트팩과 칼레드볼프를 보여드리겠습니다. 그럼 내일봬요!',\n",
       "   'bloggername': \"러시안노벨's 클라우드\",\n",
       "   'bloggerlink': 'https://blog.naver.com/jgh930309',\n",
       "   'postdate': '20210831'},\n",
       "  {'title': '<b>레드 드래곤</b>(2002), 한니발(2001)',\n",
       "   'link': 'https:\\\\/\\\\/blog.naver.com\\\\/bluebirdblue?Redirect=Log&logNo=221845780783',\n",
       "   'description': '<b>레드 드래곤</b> 감독 브렛 래트너 출연 안소니 홉킨스, 에드워드 노튼 개봉 2002.11.06. 미국 리뷰보기... 어떤 신과 악마의 모습을 모두 가진 존재라면, &lt;<b>레드 드래곤</b>&gt;에서의 한니발은 자신을 감방에 쳐넣은... ',\n",
       "   'bloggername': 'bluebirdblue',\n",
       "   'bloggerlink': 'https://blog.naver.com/bluebirdblue',\n",
       "   'postdate': '20200310'},\n",
       "  {'title': '[에픽게임즈] Wargame: Red Dragon 워게임 <b>레드 드래곤</b>... ',\n",
       "   'link': 'https:\\\\/\\\\/blog.naver.com\\\\/mugerin?Redirect=Log&logNo=222264874537',\n",
       "   'description': '게임은 #Wargame #Red #Dragon #워게임 #<b>레드</b> #<b>드래곤</b> #Surviving #Mars #서바이빙 #마스 입니다 워게임... 워게임 <b>레드 드래곤</b> 의 경우 기억하시려나 모르겠는데 원래 배포 하려던 적이 있었던 게임입니다... ',\n",
       "   'bloggername': '나무노래',\n",
       "   'bloggerlink': 'https://blog.naver.com/mugerin',\n",
       "   'postdate': '20210305'},\n",
       "  {'title': '[<b>레드 드래곤</b>, Red Dragon] 터키 이즈미르 최고의 중국집... ',\n",
       "   'link': 'https:\\\\/\\\\/blog.naver.com\\\\/wakai99?Redirect=Log&logNo=222062646230',\n",
       "   'description': '<b>레드 드래곤</b>, Red Dragon !! 터키에 온지도 벌써 한달하고도 보름이 지났네요. 예전 출장 때는 한국식당도... 바로 터키 이즈미르의 최고의 중국집 #<b>레드드래곤</b> #Reddragon 터키 이즈미르 최고의 중국집인 레드... ',\n",
       "   'bloggername': '피그몬의 골프이야기',\n",
       "   'bloggerlink': 'https://blog.naver.com/wakai99',\n",
       "   'postdate': '20200818'},\n",
       "  {'title': '[MG] 건담 아스트레이 <b>레드 드래곤</b>-5',\n",
       "   'link': 'https:\\\\/\\\\/blog.naver.com\\\\/chgood123?Redirect=Log&logNo=222362707776',\n",
       "   'description': '건담 아스트레이 <b>레드 드래곤</b> 조립 완성했습니다 고관절이 낙지라 포즈 잡는데 좀 어려움이 있었지만 조립완성 후 포~~쓰는 정말 장난이 아니네요 멋짐 대폭발 입니다 무기는 보이는 것 외에 아스트레이 레드... ',\n",
       "   'bloggername': '최가윤가님의 블로그',\n",
       "   'bloggerlink': 'https://blog.naver.com/chgood123',\n",
       "   'postdate': '20210523'}]}"
      ]
     },
     "metadata": {},
     "execution_count": 27
    }
   ],
   "metadata": {}
  },
  {
   "cell_type": "code",
   "execution_count": 21,
   "source": [
    "df = pd.read_excel('../practice_data/kobis_upto_2021-09-28.xlsx')\r\n",
    "df.info()"
   ],
   "outputs": [
    {
     "output_type": "stream",
     "name": "stdout",
     "text": [
      "<class 'pandas.core.frame.DataFrame'>\n",
      "RangeIndex: 18092 entries, 0 to 18091\n",
      "Data columns (total 18 columns):\n",
      " #   Column  Non-Null Count  Dtype         \n",
      "---  ------  --------------  -----         \n",
      " 0   순번      18091 non-null  float64       \n",
      " 1   영화명     18091 non-null  object        \n",
      " 2   감독      17241 non-null  object        \n",
      " 3   제작사     6489 non-null   object        \n",
      " 4   수입사     11801 non-null  object        \n",
      " 5   배급사     17534 non-null  object        \n",
      " 6   개봉일     18081 non-null  datetime64[ns]\n",
      " 7   영화유형    18091 non-null  object        \n",
      " 8   영화형태    18090 non-null  object        \n",
      " 9   국적      18090 non-null  object        \n",
      " 10  전국      18092 non-null  object        \n",
      " 11  전국.1    17970 non-null  object        \n",
      " 12  전국.2    18092 non-null  object        \n",
      " 13  서울      17964 non-null  object        \n",
      " 14  서울.1    18092 non-null  object        \n",
      " 15  장르      18011 non-null  object        \n",
      " 16  등급      18075 non-null  object        \n",
      " 17  영화구분    18091 non-null  object        \n",
      "dtypes: datetime64[ns](1), float64(1), object(16)\n",
      "memory usage: 2.5+ MB\n"
     ]
    }
   ],
   "metadata": {}
  },
  {
   "cell_type": "code",
   "execution_count": 26,
   "source": [
    "response_body"
   ],
   "outputs": [
    {
     "output_type": "execute_result",
     "data": {
      "text/plain": [
       "b'{\\n\"lastBuildDate\": \"Sat, 02 Oct 2021 11:31:50 +0900\",\\n\"total\": 19151,\\n\"start\": 1,\\n\"display\": 10,\\n\"items\": [\\n{\\n\"title\": \"\\xec\\x98\\x81\\xed\\x99\\x94 \\'<b>\\xeb\\xa0\\x88\\xeb\\x93\\x9c \\xeb\\x93\\x9c\\xeb\\x9e\\x98\\xea\\xb3\\xa4</b>\\' \\xec\\x97\\xb0\\xec\\x87\\x84\\xec\\x82\\xb4\\xec\\x9d\\xb8\\xeb\\xa7\\x88 \\xec\\x9e\\xa5\\xeb\\xa5\\xb4\\xec\\x9d\\x98 \\xec\\x88\\x98\\xec\\x9e\\x91\",\\n\"link\": \"https:\\\\/\\\\/blog.naver.com\\\\/mudoidoi?Redirect=Log&logNo=222347649815\",\\n\"description\": \"\\xec\\xa0\\x9c\\xeb\\xaa\\xa9\\xec\\x9d\\x80 \\'<b>\\xeb\\xa0\\x88\\xeb\\x93\\x9c \\xeb\\x93\\x9c\\xeb\\x9e\\x98\\xea\\xb3\\xa4</b>\\'. 2001\\xeb\\x85\\x84 \\xea\\xb0\\x9c\\xeb\\xb4\\x89\\xec\\x9e\\x91\\xec\\x9d\\xb4\\xeb\\xa9\\xb0 \\xeb\\xa7\\x8e\\xec\\x9d\\x80 \\xeb\\xb6\\x84\\xeb\\x93\\xa4\\xea\\xbb\\x98\\xec\\x84\\x9c \\xec\\x9d\\xb5\\xed\\x9e\\x88 \\xec\\x95\\x8c\\xea\\xb3\\xa0 \\xea\\xb3\\x84\\xec\\x8b\\xa4 \\'\\xed\\x95\\x9c\\xeb\\x8b\\x88\\xeb\\xb0\\x9c \\xeb\\xa0\\x89\\xed\\x84\\xb0\\' \\xec\\x8b\\x9c\\xeb\\xa6\\xac\\xec\\xa6\\x88 \\xec\\xa4\\x91 1\\xed\\x8e\\xb8\\xec\\x97\\x90... \\xea\\xb0\\x9c\\xec\\x9d\\xb8\\xec\\xa0\\x81\\xec\\x9c\\xbc\\xeb\\xa1\\x9c \\xed\\x95\\x9c\\xeb\\x8b\\x88\\xeb\\xb0\\x9c \\xeb\\xa0\\x89\\xed\\x84\\xb0 \\xec\\x8b\\x9c\\xeb\\xa6\\xac\\xec\\xa6\\x88 4\\xed\\x8e\\xb8 \\xec\\xa4\\x91 3\\xed\\x8e\\xb8\\xec\\x9d\\x98 \\xec\\xb1\\x85\\xec\\x9d\\x84 \\xeb\\x8b\\xa4 \\xec\\x9d\\xbd\\xec\\x97\\x88\\xeb\\x8a\\x94\\xeb\\x8d\\xb0 \\xec\\xb2\\xab \\xed\\x8e\\xb8\\xec\\x97\\x90 \\xed\\x95\\xb4\\xeb\\x8b\\xb9\\xed\\x95\\x98\\xeb\\x8a\\x94 <b>\\xeb\\xa0\\x88\\xeb\\x93\\x9c \\xeb\\x93\\x9c\\xeb\\x9e\\x98\\xea\\xb3\\xa4</b>\\xec\\x9d\\xb4 \\xea\\xb0\\x80\\xec\\x9e\\xa5... \",\\n\"bloggername\": \"\\xeb\\x8f\\x88\\xeb\\x82\\xb4\\xea\\xb3\\xa0\\xec\\x82\\xac\\xeb\\xa8\\xb9\\xec\\x9d\\x8d\\xec\\x8b\\x9c\\xeb\\x8b\\xa4(\\xe8\\x88\\x8aSerendipity)\",\\n\"bloggerlink\": \"https://blog.naver.com/mudoidoi\",\\n\"postdate\": \"20210522\"\\n\\n},\\n{\\n\"title\": \"&lt;\\xeb\\xa7\\xa8\\xed\\x97\\x8c\\xed\\x84\\xb0&gt; vs &lt;<b>\\xeb\\xa0\\x88\\xeb\\x93\\x9c \\xeb\\x93\\x9c\\xeb\\x9e\\x98\\xea\\xb3\\xa4</b>&gt;\",\\n\"link\": \"https:\\\\/\\\\/blog.naver.com\\\\/harukii72?Redirect=Log&logNo=222324513475\",\\n\"description\": \"&lt;\\xeb\\xa7\\xa8\\xed\\x97\\x8c\\xed\\x84\\xb0&gt; vs &lt;<b>\\xeb\\xa0\\x88\\xeb\\x93\\x9c \\xeb\\x93\\x9c\\xeb\\x9e\\x98\\xea\\xb3\\xa4</b>&gt; \\xe2\\x80\\x9c\\xea\\xb7\\xb8\\xeb\\xa0\\x88\\xec\\x9d\\xb4\\xec\\x97\\x84 \\xec\\x9e\\x90\\xeb\\x84\\xa4\\xeb\\x8a\\x94 \\xeb\\x82\\xa0 \\xeb\\x91\\x90\\xeb\\xa0\\xa4\\xec\\x9b\\x8c\\xed\\x95\\x98\\xeb\\xa9\\xb4\\xec\\x84\\x9c\\xeb\\x8f\\x84 \\xec\\x97\\xac\\xea\\xb8\\xb0\\xec\\x97\\x90 \\xec\\x98\\xa4\\xec\\x9e\\x96\\xec\\x95\\x84. \\xec\\x9e\\x90\\xeb\\x84\\xa4\\xeb\\x8a\\x94 \\xec\\x9d\\xb4 \\xec\\x88\\x98\\xec\\xa4\\x8d\\xec\\x9d\\x80 \\xeb\\x85\\x80\\xec\\x84\\x9d... \\xea\\xb3\\xb5\\xed\\x8f\\xac\\xeb\\x8a\\x94 \\xec\\x9d\\xb4\\xeb\\x9f\\xb0 \\xec\\x83\\x81\\xec\\x83\\x81\\xeb\\xa0\\xa5\\xec\\x9d\\x98 \\xeb\\x8c\\x80\\xea\\xb0\\x80\\xec\\xa7\\x80\\xeb\\xa7\\x8c \\xec\\x9e\\x90\\xeb\\x84\\xa4\\xea\\xb0\\x80 \\xec\\x9d\\xb4\\xea\\xb2\\xa8\\xeb\\x82\\xbc \\xec\\x88\\x98 \\xec\\x9e\\x88\\xea\\xb2\\x8c \\xeb\\x82\\xb4\\xea\\xb0\\x80 \\xeb\\x8f\\x84\\xec\\x99\\x80\\xec\\xa4\\x84 \\xec\\x88\\x98 \\xec\\x9e\\x88\\xec\\xa7\\x80...\\xe2\\x80\\x9c - &lt;<b>\\xeb\\xa0\\x88\\xeb\\x93\\x9c \\xeb\\x93\\x9c\\xeb\\x9e\\x98\\xea\\xb3\\xa4</b>&gt; \\xec\\xa4\\x91... \",\\n\"bloggername\": \"\\xed\\x95\\x98\\xeb\\x93\\x9c\\xeb\\xb3\\xb4\\xec\\x9d\\xbc\\xeb\\x93\\x9c \\xec\\x9b\\x90\\xeb\\x8d\\x94\\xeb\\x9e\\x9c\\xeb\\x93\\x9c\",\\n\"bloggerlink\": \"https://blog.naver.com/harukii72\",\\n\"postdate\": \"20210427\"\\n\\n},\\n{\\n\"title\": \"\\xec\\x98\\x81\\xed\\x99\\x94 <b>\\xeb\\xa0\\x88\\xeb\\x93\\x9c \\xeb\\x93\\x9c\\xeb\\x9e\\x98\\xea\\xb3\\xa4</b> \\xe2\\x80\\x93 \\xea\\xb3\\x84\\xed\\x9a\\x8d\\xec\\xa0\\x81\\xec\\x9c\\xbc\\xeb\\xa1\\x9c \\xea\\xb0\\x80\\xec\\xa1\\xb1 \\xeb\\xaa\\xa8\\xeb\\x91\\x90\\xeb\\xa5\\xbc \\xec\\x82\\xb4\\xed\\x95\\xb4\\xed\\x95\\x98\\xeb\\x8a\\x94... \",\\n\"link\": \"https:\\\\/\\\\/blog.naver.com\\\\/khk629105?Redirect=Log&logNo=222435845077\",\\n\"description\": \"\\xec\\x98\\x81\\xed\\x99\\x94 <b>\\xeb\\xa0\\x88\\xeb\\x93\\x9c \\xeb\\x93\\x9c\\xeb\\x9e\\x98\\xea\\xb3\\xa4</b> \\xe2\\x80\\x93 \\xea\\xb3\\x84\\xed\\x9a\\x8d\\xec\\xa0\\x81\\xec\\x9c\\xbc\\xeb\\xa1\\x9c \\xea\\xb0\\x80\\xec\\xa1\\xb1 \\xeb\\xaa\\xa8\\xeb\\x91\\x90\\xeb\\xa5\\xbc \\xec\\x82\\xb4\\xed\\x95\\xb4\\xed\\x95\\x98\\xeb\\x8a\\x94 \\xec\\x97\\xb0\\xec\\x87\\x84\\xec\\x82\\xb4\\xec\\x9d\\xb8\\xeb\\xb2\\x94 <b>\\xeb\\xa0\\x88\\xeb\\x93\\x9c \\xeb\\x93\\x9c\\xeb\\x9e\\x98\\xea\\xb3\\xa4</b> \\xec\\xa0\\x95\\xeb\\xb3\\xb4 \\xea\\xb0\\x9c\\xec\\x9a\\x94: \\xeb\\xb2\\x94\\xec\\xa3\\x84, \\xeb\\xaf\\xb8\\xec\\x8a\\xa4\\xed\\x84\\xb0\\xeb\\xa6\\xac, \\xec\\x8a\\xa4\\xeb\\xa6\\xb4\\xeb\\x9f\\xac/ \\xeb\\xaf\\xb8\\xea\\xb5\\xad/ 124\\xeb\\xb6\\x84 \\xea\\xb0\\x9c\\xeb\\xb4\\x89: 2002. 11. 06. \\xea\\xb0\\x90\\xeb\\x8f\\x85: \\xeb\\xb8\\x8c\\xeb\\xa0\\x9b \\xeb\\x9e\\x98\\xed\\x8a\\xb8\\xeb\\x84\\x88 \\xec\\xa3\\xbc\\xec\\x97\\xb0: \\xec\\x95\\x88\\xec\\x86\\x8c\\xeb\\x8b\\x88 \\xed\\x99\\x89\\xed\\x82\\xa8\\xec\\x8a\\xa4(\\xed\\x95\\x9c\\xeb\\x8b\\x88\\xeb\\xb0\\x9c \\xeb\\xa0\\x89\\xed\\x84\\xb0)/ \\xec\\x97\\x90\\xeb\\x93\\x9c\\xec\\x9b\\x8c\\xeb\\x93\\x9c... \",\\n\"bloggername\": \"\\xea\\xb9\\x80\\xed\\x99\\x8d\\xea\\xb1\\xb8\\xea\\xb0\\x95\\xec\\x82\\xac\",\\n\"bloggerlink\": \"https://blog.naver.com/khk629105\",\\n\"postdate\": \"20210718\"\\n\\n},\\n{\\n\"title\": \"MG \\xec\\x95\\x84\\xec\\x8a\\xa4\\xed\\x8a\\xb8\\xeb\\xa0\\x88\\xec\\x9d\\xb4 <b>\\xeb\\xa0\\x88\\xeb\\x93\\x9c \\xeb\\x93\\x9c\\xeb\\x9e\\x98\\xea\\xb3\\xa4</b> \\xec\\xa1\\xb0\\xeb\\xa6\\xbd \\xed\\x9b\\x84\\xea\\xb8\\xb0\",\\n\"link\": \"https:\\\\/\\\\/blog.naver.com\\\\/ss1549ss?Redirect=Log&logNo=221676358482\",\\n\"description\": \"\\xeb\\xb2\\x84\\xec\\xb9\\xb4 \\xeb\\xb6\\x99\\xec\\x9d\\xb4\\xeb\\x8b\\xa4\\xea\\xb0\\x80 \\xed\\x84\\xb4 \\xeb\\xa0\\x88\\xeb\\x93\\x9c\\xeb\\x9e\\x91 <b>\\xeb\\xa0\\x88\\xeb\\x93\\x9c \\xeb\\x93\\x9c\\xeb\\x9e\\x98\\xea\\xb3\\xa4</b> \\xeb\\xb3\\xb4\\xeb\\x8b\\x88 \\xeb\\x84\\x88\\xeb\\xac\\xb4 \\xed\\x8e\\xb8\\xec\\x95\\x88\\xed\\x95\\xa9\\xeb\\x8b\\x88\\xeb\\x8b\\xa4. \\xeb\\xb2\\x84\\xec\\xb9\\xb4\\xea\\xb0\\x80 \\xeb\\x8d\\xb0\\xec\\xb9\\xbc\\xec\\x9d\\xb4 \\xeb\\x84\\x88\\xeb\\xac\\xb4 \\xeb\\xa7\\x8e\\xec\\x9d\\x80\\xea\\xb1\\xb0\\xec\\x95\\xbc... \\xec\\xb9\\xb4\\xed\\x86\\xa0\\xed\\x82\\xa4 \\xec\\x9d\\xb4 \\xeb\\x85\\x80\\xec\\x84\\x9d\\xec\\x95\\x84... \\xec\\x95\\xa1\\xec\\x85\\x98 \\xed\\x8f\\xac\\xec\\xa6\\x88~ \\xec\\xa0\\x95\\xeb\\xa7\\x90 \\xeb\\xa9\\x8b\\xec\\x9e\\x88\\xec\\x8a\\xb5\\xeb\\x8b\\x88\\xeb\\x8b\\xa4. \\xed\\x95\\x9c\\xec\\xa0\\x95\\xed\\x8c\\x90\\xec\\x9d\\x98 \\xea\\xb0\\x80\\xec\\xb9\\x98\\xea\\xb0\\x80 \\xec\\x9e\\x88\\xeb\\x8a\\x94 \\xed\\x82\\xa4\\xed\\x8a\\xb8\\xec\\x9e\\x85\\xeb\\x8b\\x88\\xeb\\x8b\\xa4. \\xec\\xa2\\x85\\xed\\x95\\xa9\\xec\\xa0\\x81\\xec\\x9d\\xb8 \\xea\\xb0\\x90\\xec\\x83\\x81\\xec\\x9c\\xbc\\xeb\\xa1\\x9c\\xeb\\x8a\\x94... \",\\n\"bloggername\": \"*\\xeb\\xb8\\x94\\xeb\\xa1\\x9c\\xea\\xb7\\xb8 \\xec\\xa0\\x9c\\xeb\\xaa\\xa9\\xec\\x9d\\xb4 \\xec\\x97\\x86\\xec\\x8a\\xb5\\xeb\\x8b\\x88\\xeb\\x8b\\xa4*\",\\n\"bloggerlink\": \"https://blog.naver.com/ss1549ss\",\\n\"postdate\": \"20191013\"\\n\\n},\\n{\\n\"title\": \"[\\xea\\xb0\\x80\\xec\\xa1\\xb0\\xeb\\xa6\\xbd] MG \\xec\\x95\\x84\\xec\\x8a\\xa4\\xed\\x8a\\xb8\\xeb\\xa0\\x88\\xec\\x9d\\xb4 <b>\\xeb\\xa0\\x88\\xeb\\x93\\x9c\\xeb\\x93\\x9c\\xeb\\x9e\\x98\\xea\\xb3\\xa4</b>\",\\n\"link\": \"https:\\\\/\\\\/blog.naver.com\\\\/kirk147?Redirect=Log&logNo=222279778342\",\\n\"description\": \"\\xed\\x94\\x8c\\xeb\\x9d\\xbc\\xec\\x9d\\xb4\\xed\\x8a\\xb8\\xed\\x8c\\xa9\\xec\\x9d\\x80 \\xec\\x99\\x80\\xec\\x9d\\xb4\\xed\\x94\\x84\\xed\\x95\\x9c\\xed\\x85\\x8c \\xeb\\xa7\\x8c\\xeb\\x93\\xa4\\xec\\x96\\xb4\\xeb\\x9d\\xbc\\xea\\xb3\\xa0 \\xeb\\x8b\\xa4\\xec\\x8b\\x9c \\xed\\x94\\x84\\xeb\\x9d\\xbc\\xed\\x83\\x91\\xec\\x97\\x90 \\xeb\\xaa\\xa8\\xec\\x85\\x94\\xeb\\x91\\x90\\xea\\xb3\\xa0 <b>\\xeb\\xa0\\x88\\xeb\\x93\\x9c\\xeb\\x93\\x9c\\xeb\\x9e\\x98\\xea\\xb3\\xa4</b>\\xeb\\xa7\\x8c \\xea\\xba\\xbc\\xeb\\x82\\xb4\\xec\\x84\\x9c \\xeb\\xb0\\xb1\\xed\\x8c\\xa9\\xeb\\xa7\\x8c \\xeb\\xa7\\x8c\\xeb\\x93\\xa4\\xeb\\xa0\\xa4\\xea\\xb3\\xa0 \\xed\\x95\\x9c \\xec\\xb0\\xb0\\xeb\\x82\\x98....\\xea\\xb0\\x80\\xeb\\xa7\\x8c\\xed\\x9e\\x88 \\xeb\\xb3\\xb4\\xeb\\x8b\\x88 \\xeb\\x82\\xb4\\xea\\xba\\xbc \\xeb\\xa0\\x88\\xeb\\x93\\x9c\\xed\\x94\\x84\\xeb\\xa0\\x88\\xec\\x9e\\x84 \\xec\\x86\\x8c\\xec\\xb2\\xb4\\xea\\xb0\\x80 \\xed\\x95\\x98\\xeb\\x82\\x98\\xeb\\x8f\\x84 \\xec\\x97\\x86\\xeb\\x8b\\xa4 \\xe3\\x85\\x8b \\xeb\\xb8\\x94\\xed\\x94\\x84 \\xec\\x84\\x9c\\xeb\\x93\\x9c \\xec\\xbb\\xa8\\xeb\\xb2\\x84\\xec\\xa0\\x84 \\xec\\x86\\x8c\\xec\\xb2\\xb4\\xeb\\xa1\\x9c \\xec\\x82\\xac\\xec\\x9a\\xa9\\xed\\x95\\xa0 \\xeb\\xb8\\x94\\xed\\x94\\x84\\xeb\\xa7\\x8c... \",\\n\"bloggername\": \"[\\xeb\\x92\\xb7\\xea\\xb3\\xa8\\xeb\\xaa\\xa9\\xec\\x9d\\x98 \\xec\\x9a\\xb0\\xec\\xa3\\xbc\\xec\\x86\\x8c\\xeb\\x85\\x84]\",\\n\"bloggerlink\": \"https://blog.naver.com/kirk147\",\\n\"postdate\": \"20210318\"\\n\\n},\\n{\\n\"title\": \"[MG] \\xec\\x95\\x84\\xec\\x8a\\xa4\\xed\\x8a\\xb8\\xeb\\xa0\\x88\\xec\\x9d\\xb4 <b>\\xeb\\xa0\\x88\\xeb\\x93\\x9c\\xeb\\x93\\x9c\\xeb\\x9e\\x98\\xea\\xb3\\xa4</b> - PART.1\",\\n\"link\": \"https:\\\\/\\\\/blog.naver.com\\\\/jgh930309?Redirect=Log&logNo=222490706298\",\\n\"description\": \"\\xed\\x95\\x98\\xea\\xb3\\xa0\\xeb\\xb3\\xb4\\xeb\\x8b\\x88 \\xec\\x86\\x8c\\xec\\xb2\\xb4\\xeb\\x8a\\x94 \\xeb\\x8b\\xac\\xeb\\x9d\\xbc\\xec\\xa7\\x84\\xea\\xb2\\x8c \\xec\\x97\\x86\\xeb\\x84\\xa4\\xec\\x9a\\x94....? \\xec\\x9d\\xb4\\xeb\\xb2\\x88 \\xed\\x8f\\xac\\xec\\x8a\\xa4\\xed\\x8c\\x85\\xec\\x9d\\x80 \\xec\\x82\\xb4\\xec\\xa7\\x9d \\xeb\\x82\\xa0\\xeb\\xa1\\x9c\\xeb\\xa8\\xb9\\xec\\x9d\\x80 \\xeb\\x93\\xaf \\xed\\x95\\xa9\\xeb\\x8b\\x88\\xeb\\x8b\\xa4. \\xeb\\x82\\xb4\\xec\\x9d\\xbc\\xec\\x9d\\x80 <b>\\xeb\\xa0\\x88\\xeb\\x93\\x9c\\xeb\\x93\\x9c\\xeb\\x9e\\x98\\xea\\xb3\\xa4</b>\\xec\\x9d\\x98 \\xea\\xbd\\x83\\xec\\x9d\\xb8 \\xed\\x94\\x8c\\xeb\\x9d\\xbc\\xec\\x9d\\xb4\\xed\\x8a\\xb8\\xed\\x8c\\xa9\\xea\\xb3\\xbc \\xec\\xb9\\xbc\\xeb\\xa0\\x88\\xeb\\x93\\x9c\\xeb\\xb3\\xbc\\xed\\x94\\x84\\xeb\\xa5\\xbc \\xeb\\xb3\\xb4\\xec\\x97\\xac\\xeb\\x93\\x9c\\xeb\\xa6\\xac\\xea\\xb2\\xa0\\xec\\x8a\\xb5\\xeb\\x8b\\x88\\xeb\\x8b\\xa4. \\xea\\xb7\\xb8\\xeb\\x9f\\xbc \\xeb\\x82\\xb4\\xec\\x9d\\xbc\\xeb\\xb4\\xac\\xec\\x9a\\x94!\",\\n\"bloggername\": \"\\xeb\\x9f\\xac\\xec\\x8b\\x9c\\xec\\x95\\x88\\xeb\\x85\\xb8\\xeb\\xb2\\xa8\\'s \\xed\\x81\\xb4\\xeb\\x9d\\xbc\\xec\\x9a\\xb0\\xeb\\x93\\x9c\",\\n\"bloggerlink\": \"https://blog.naver.com/jgh930309\",\\n\"postdate\": \"20210831\"\\n\\n},\\n{\\n\"title\": \"<b>\\xeb\\xa0\\x88\\xeb\\x93\\x9c \\xeb\\x93\\x9c\\xeb\\x9e\\x98\\xea\\xb3\\xa4</b>(2002), \\xed\\x95\\x9c\\xeb\\x8b\\x88\\xeb\\xb0\\x9c(2001)\",\\n\"link\": \"https:\\\\/\\\\/blog.naver.com\\\\/bluebirdblue?Redirect=Log&logNo=221845780783\",\\n\"description\": \"<b>\\xeb\\xa0\\x88\\xeb\\x93\\x9c \\xeb\\x93\\x9c\\xeb\\x9e\\x98\\xea\\xb3\\xa4</b> \\xea\\xb0\\x90\\xeb\\x8f\\x85 \\xeb\\xb8\\x8c\\xeb\\xa0\\x9b \\xeb\\x9e\\x98\\xed\\x8a\\xb8\\xeb\\x84\\x88 \\xec\\xb6\\x9c\\xec\\x97\\xb0 \\xec\\x95\\x88\\xec\\x86\\x8c\\xeb\\x8b\\x88 \\xed\\x99\\x89\\xed\\x82\\xa8\\xec\\x8a\\xa4, \\xec\\x97\\x90\\xeb\\x93\\x9c\\xec\\x9b\\x8c\\xeb\\x93\\x9c \\xeb\\x85\\xb8\\xed\\x8a\\xbc \\xea\\xb0\\x9c\\xeb\\xb4\\x89 2002.11.06. \\xeb\\xaf\\xb8\\xea\\xb5\\xad \\xeb\\xa6\\xac\\xeb\\xb7\\xb0\\xeb\\xb3\\xb4\\xea\\xb8\\xb0... \\xec\\x96\\xb4\\xeb\\x96\\xa4 \\xec\\x8b\\xa0\\xea\\xb3\\xbc \\xec\\x95\\x85\\xeb\\xa7\\x88\\xec\\x9d\\x98 \\xeb\\xaa\\xa8\\xec\\x8a\\xb5\\xec\\x9d\\x84 \\xeb\\xaa\\xa8\\xeb\\x91\\x90 \\xea\\xb0\\x80\\xec\\xa7\\x84 \\xec\\xa1\\xb4\\xec\\x9e\\xac\\xeb\\x9d\\xbc\\xeb\\xa9\\xb4, &lt;<b>\\xeb\\xa0\\x88\\xeb\\x93\\x9c \\xeb\\x93\\x9c\\xeb\\x9e\\x98\\xea\\xb3\\xa4</b>&gt;\\xec\\x97\\x90\\xec\\x84\\x9c\\xec\\x9d\\x98 \\xed\\x95\\x9c\\xeb\\x8b\\x88\\xeb\\xb0\\x9c\\xec\\x9d\\x80 \\xec\\x9e\\x90\\xec\\x8b\\xa0\\xec\\x9d\\x84 \\xea\\xb0\\x90\\xeb\\xb0\\xa9\\xec\\x97\\x90 \\xec\\xb3\\x90\\xeb\\x84\\xa3\\xec\\x9d\\x80... \",\\n\"bloggername\": \"bluebirdblue\",\\n\"bloggerlink\": \"https://blog.naver.com/bluebirdblue\",\\n\"postdate\": \"20200310\"\\n\\n},\\n{\\n\"title\": \"[\\xec\\x97\\x90\\xed\\x94\\xbd\\xea\\xb2\\x8c\\xec\\x9e\\x84\\xec\\xa6\\x88] Wargame: Red Dragon \\xec\\x9b\\x8c\\xea\\xb2\\x8c\\xec\\x9e\\x84 <b>\\xeb\\xa0\\x88\\xeb\\x93\\x9c \\xeb\\x93\\x9c\\xeb\\x9e\\x98\\xea\\xb3\\xa4</b>... \",\\n\"link\": \"https:\\\\/\\\\/blog.naver.com\\\\/mugerin?Redirect=Log&logNo=222264874537\",\\n\"description\": \"\\xea\\xb2\\x8c\\xec\\x9e\\x84\\xec\\x9d\\x80 #Wargame #Red #Dragon #\\xec\\x9b\\x8c\\xea\\xb2\\x8c\\xec\\x9e\\x84 #<b>\\xeb\\xa0\\x88\\xeb\\x93\\x9c</b> #<b>\\xeb\\x93\\x9c\\xeb\\x9e\\x98\\xea\\xb3\\xa4</b> #Surviving #Mars #\\xec\\x84\\x9c\\xeb\\xb0\\x94\\xec\\x9d\\xb4\\xeb\\xb9\\x99 #\\xeb\\xa7\\x88\\xec\\x8a\\xa4 \\xec\\x9e\\x85\\xeb\\x8b\\x88\\xeb\\x8b\\xa4 \\xec\\x9b\\x8c\\xea\\xb2\\x8c\\xec\\x9e\\x84... \\xec\\x9b\\x8c\\xea\\xb2\\x8c\\xec\\x9e\\x84 <b>\\xeb\\xa0\\x88\\xeb\\x93\\x9c \\xeb\\x93\\x9c\\xeb\\x9e\\x98\\xea\\xb3\\xa4</b> \\xec\\x9d\\x98 \\xea\\xb2\\xbd\\xec\\x9a\\xb0 \\xea\\xb8\\xb0\\xec\\x96\\xb5\\xed\\x95\\x98\\xec\\x8b\\x9c\\xeb\\xa0\\xa4\\xeb\\x82\\x98 \\xeb\\xaa\\xa8\\xeb\\xa5\\xb4\\xea\\xb2\\xa0\\xeb\\x8a\\x94\\xeb\\x8d\\xb0 \\xec\\x9b\\x90\\xeb\\x9e\\x98 \\xeb\\xb0\\xb0\\xed\\x8f\\xac \\xed\\x95\\x98\\xeb\\xa0\\xa4\\xeb\\x8d\\x98 \\xec\\xa0\\x81\\xec\\x9d\\xb4 \\xec\\x9e\\x88\\xec\\x97\\x88\\xeb\\x8d\\x98 \\xea\\xb2\\x8c\\xec\\x9e\\x84\\xec\\x9e\\x85\\xeb\\x8b\\x88\\xeb\\x8b\\xa4... \",\\n\"bloggername\": \"\\xeb\\x82\\x98\\xeb\\xac\\xb4\\xeb\\x85\\xb8\\xeb\\x9e\\x98\",\\n\"bloggerlink\": \"https://blog.naver.com/mugerin\",\\n\"postdate\": \"20210305\"\\n\\n},\\n{\\n\"title\": \"[<b>\\xeb\\xa0\\x88\\xeb\\x93\\x9c \\xeb\\x93\\x9c\\xeb\\x9e\\x98\\xea\\xb3\\xa4</b>, Red Dragon] \\xed\\x84\\xb0\\xed\\x82\\xa4 \\xec\\x9d\\xb4\\xec\\xa6\\x88\\xeb\\xaf\\xb8\\xeb\\xa5\\xb4 \\xec\\xb5\\x9c\\xea\\xb3\\xa0\\xec\\x9d\\x98 \\xec\\xa4\\x91\\xea\\xb5\\xad\\xec\\xa7\\x91... \",\\n\"link\": \"https:\\\\/\\\\/blog.naver.com\\\\/wakai99?Redirect=Log&logNo=222062646230\",\\n\"description\": \"<b>\\xeb\\xa0\\x88\\xeb\\x93\\x9c \\xeb\\x93\\x9c\\xeb\\x9e\\x98\\xea\\xb3\\xa4</b>, Red Dragon !! \\xed\\x84\\xb0\\xed\\x82\\xa4\\xec\\x97\\x90 \\xec\\x98\\xa8\\xec\\xa7\\x80\\xeb\\x8f\\x84 \\xeb\\xb2\\x8c\\xec\\x8d\\xa8 \\xed\\x95\\x9c\\xeb\\x8b\\xac\\xed\\x95\\x98\\xea\\xb3\\xa0\\xeb\\x8f\\x84 \\xeb\\xb3\\xb4\\xeb\\xa6\\x84\\xec\\x9d\\xb4 \\xec\\xa7\\x80\\xeb\\x82\\xac\\xeb\\x84\\xa4\\xec\\x9a\\x94. \\xec\\x98\\x88\\xec\\xa0\\x84 \\xec\\xb6\\x9c\\xec\\x9e\\xa5 \\xeb\\x95\\x8c\\xeb\\x8a\\x94 \\xed\\x95\\x9c\\xea\\xb5\\xad\\xec\\x8b\\x9d\\xeb\\x8b\\xb9\\xeb\\x8f\\x84... \\xeb\\xb0\\x94\\xeb\\xa1\\x9c \\xed\\x84\\xb0\\xed\\x82\\xa4 \\xec\\x9d\\xb4\\xec\\xa6\\x88\\xeb\\xaf\\xb8\\xeb\\xa5\\xb4\\xec\\x9d\\x98 \\xec\\xb5\\x9c\\xea\\xb3\\xa0\\xec\\x9d\\x98 \\xec\\xa4\\x91\\xea\\xb5\\xad\\xec\\xa7\\x91 #<b>\\xeb\\xa0\\x88\\xeb\\x93\\x9c\\xeb\\x93\\x9c\\xeb\\x9e\\x98\\xea\\xb3\\xa4</b> #Reddragon \\xed\\x84\\xb0\\xed\\x82\\xa4 \\xec\\x9d\\xb4\\xec\\xa6\\x88\\xeb\\xaf\\xb8\\xeb\\xa5\\xb4 \\xec\\xb5\\x9c\\xea\\xb3\\xa0\\xec\\x9d\\x98 \\xec\\xa4\\x91\\xea\\xb5\\xad\\xec\\xa7\\x91\\xec\\x9d\\xb8 \\xeb\\xa0\\x88\\xeb\\x93\\x9c... \",\\n\"bloggername\": \"\\xed\\x94\\xbc\\xea\\xb7\\xb8\\xeb\\xaa\\xac\\xec\\x9d\\x98 \\xea\\xb3\\xa8\\xed\\x94\\x84\\xec\\x9d\\xb4\\xec\\x95\\xbc\\xea\\xb8\\xb0\",\\n\"bloggerlink\": \"https://blog.naver.com/wakai99\",\\n\"postdate\": \"20200818\"\\n\\n},\\n{\\n\"title\": \"[MG] \\xea\\xb1\\xb4\\xeb\\x8b\\xb4 \\xec\\x95\\x84\\xec\\x8a\\xa4\\xed\\x8a\\xb8\\xeb\\xa0\\x88\\xec\\x9d\\xb4 <b>\\xeb\\xa0\\x88\\xeb\\x93\\x9c \\xeb\\x93\\x9c\\xeb\\x9e\\x98\\xea\\xb3\\xa4</b>-5\",\\n\"link\": \"https:\\\\/\\\\/blog.naver.com\\\\/chgood123?Redirect=Log&logNo=222362707776\",\\n\"description\": \"\\xea\\xb1\\xb4\\xeb\\x8b\\xb4 \\xec\\x95\\x84\\xec\\x8a\\xa4\\xed\\x8a\\xb8\\xeb\\xa0\\x88\\xec\\x9d\\xb4 <b>\\xeb\\xa0\\x88\\xeb\\x93\\x9c \\xeb\\x93\\x9c\\xeb\\x9e\\x98\\xea\\xb3\\xa4</b> \\xec\\xa1\\xb0\\xeb\\xa6\\xbd \\xec\\x99\\x84\\xec\\x84\\xb1\\xed\\x96\\x88\\xec\\x8a\\xb5\\xeb\\x8b\\x88\\xeb\\x8b\\xa4 \\xea\\xb3\\xa0\\xea\\xb4\\x80\\xec\\xa0\\x88\\xec\\x9d\\xb4 \\xeb\\x82\\x99\\xec\\xa7\\x80\\xeb\\x9d\\xbc \\xed\\x8f\\xac\\xec\\xa6\\x88 \\xec\\x9e\\xa1\\xeb\\x8a\\x94\\xeb\\x8d\\xb0 \\xec\\xa2\\x80 \\xec\\x96\\xb4\\xeb\\xa0\\xa4\\xec\\x9b\\x80\\xec\\x9d\\xb4 \\xec\\x9e\\x88\\xec\\x97\\x88\\xec\\xa7\\x80\\xeb\\xa7\\x8c \\xec\\xa1\\xb0\\xeb\\xa6\\xbd\\xec\\x99\\x84\\xec\\x84\\xb1 \\xed\\x9b\\x84 \\xed\\x8f\\xac~~\\xec\\x93\\xb0\\xeb\\x8a\\x94 \\xec\\xa0\\x95\\xeb\\xa7\\x90 \\xec\\x9e\\xa5\\xeb\\x82\\x9c\\xec\\x9d\\xb4 \\xec\\x95\\x84\\xeb\\x8b\\x88\\xeb\\x84\\xa4\\xec\\x9a\\x94 \\xeb\\xa9\\x8b\\xec\\xa7\\x90 \\xeb\\x8c\\x80\\xed\\x8f\\xad\\xeb\\xb0\\x9c \\xec\\x9e\\x85\\xeb\\x8b\\x88\\xeb\\x8b\\xa4 \\xeb\\xac\\xb4\\xea\\xb8\\xb0\\xeb\\x8a\\x94 \\xeb\\xb3\\xb4\\xec\\x9d\\xb4\\xeb\\x8a\\x94 \\xea\\xb2\\x83 \\xec\\x99\\xb8\\xec\\x97\\x90 \\xec\\x95\\x84\\xec\\x8a\\xa4\\xed\\x8a\\xb8\\xeb\\xa0\\x88\\xec\\x9d\\xb4 \\xeb\\xa0\\x88\\xeb\\x93\\x9c... \",\\n\"bloggername\": \"\\xec\\xb5\\x9c\\xea\\xb0\\x80\\xec\\x9c\\xa4\\xea\\xb0\\x80\\xeb\\x8b\\x98\\xec\\x9d\\x98 \\xeb\\xb8\\x94\\xeb\\xa1\\x9c\\xea\\xb7\\xb8\",\\n\"bloggerlink\": \"https://blog.naver.com/chgood123\",\\n\"postdate\": \"20210523\"\\n\\n}\\n]\\n}\\n'"
      ]
     },
     "metadata": {},
     "execution_count": 26
    }
   ],
   "metadata": {}
  },
  {
   "cell_type": "code",
   "execution_count": null,
   "source": [],
   "outputs": [],
   "metadata": {}
  }
 ],
 "metadata": {
  "orig_nbformat": 4,
  "language_info": {
   "name": "python",
   "version": "3.8.8",
   "mimetype": "text/x-python",
   "codemirror_mode": {
    "name": "ipython",
    "version": 3
   },
   "pygments_lexer": "ipython3",
   "nbconvert_exporter": "python",
   "file_extension": ".py"
  },
  "kernelspec": {
   "name": "python3",
   "display_name": "Python 3.8.8 64-bit ('base': conda)"
  },
  "interpreter": {
   "hash": "c5b8715a341aa9d42d2201bec25ddb46a20700ceb583018c752d891a66504678"
  }
 },
 "nbformat": 4,
 "nbformat_minor": 2
}