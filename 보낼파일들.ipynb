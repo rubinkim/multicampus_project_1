{
 "cells": [
  {
   "cell_type": "code",
   "execution_count": 15,
   "source": [
    "import pandas as pd\r\n",
    "import re"
   ],
   "outputs": [],
   "metadata": {}
  },
  {
   "cell_type": "code",
   "execution_count": 5,
   "source": [
    "bj = pd.read_csv('model_data/밥정.csv')\r\n",
    "bj"
   ],
   "outputs": [
    {
     "output_type": "execute_result",
     "data": {
      "text/html": [
       "<div>\n",
       "<style scoped>\n",
       "    .dataframe tbody tr th:only-of-type {\n",
       "        vertical-align: middle;\n",
       "    }\n",
       "\n",
       "    .dataframe tbody tr th {\n",
       "        vertical-align: top;\n",
       "    }\n",
       "\n",
       "    .dataframe thead th {\n",
       "        text-align: right;\n",
       "    }\n",
       "</style>\n",
       "<table border=\"1\" class=\"dataframe\">\n",
       "  <thead>\n",
       "    <tr style=\"text-align: right;\">\n",
       "      <th></th>\n",
       "      <th>영화명</th>\n",
       "      <th>블로그리뷰</th>\n",
       "      <th>평점리뷰</th>\n",
       "    </tr>\n",
       "  </thead>\n",
       "  <tbody>\n",
       "    <tr>\n",
       "      <th>0</th>\n",
       "      <td>밥정</td>\n",
       "      <td>그 시작종을 알린 영화 &lt;b&gt;밥정&lt;/b&gt;. 임지호 선생님의 자전적인 이야기가 가득 ...</td>\n",
       "      <td>그리움 이라는걸 제 멋대로 상상해보니 감당이 안됩니다. 저는 그리움을 찾아 떠나볼...</td>\n",
       "    </tr>\n",
       "  </tbody>\n",
       "</table>\n",
       "</div>"
      ],
      "text/plain": [
       "  영화명                                              블로그리뷰  \\\n",
       "0  밥정  그 시작종을 알린 영화 <b>밥정</b>. 임지호 선생님의 자전적인 이야기가 가득 ...   \n",
       "\n",
       "                                                평점리뷰  \n",
       "0   그리움 이라는걸 제 멋대로 상상해보니 감당이 안됩니다. 저는 그리움을 찾아 떠나볼...  "
      ]
     },
     "metadata": {},
     "execution_count": 5
    }
   ],
   "metadata": {}
  },
  {
   "cell_type": "markdown",
   "source": [
    "1. 밥정.csv는 밥정 영화에 대한 한줄짜리 csv파일입니다. 블로그리뷰컬럼은 네이버오픈 API를 이용해서 json파일로 받은 데이터이고, 평점리뷰컬럼은 네이버영화 에서 역대평점랭킹순서대로 정렬해놓은 곳에서 크롤링한 데이터입니다. 2. 네이버평점리뷰.csv는 2000개 영화들을 크롤링하는 과정에서 약20여개가  처음에는 크롤링이 안되서 이것들을 나중에 개별적으로 따로 크롤링해서 concat시켰기 때문에 영화명순서가 원래 네이버 데이터 랭킹순서랑 다름을 말씁드립니다. 3. 추가된 영화.csv는 권섭님이 보내주신 추가된_영화명(블로그,한줄평필요).csv의 영화명을 가지고 네이버오픈 API를 이용해서 얻은 데이터이고, 평점리뷰컬럼을 추가하려 했지만 각각의 영화명에 매치하는 영화code를 파악하려고 추가 크롤링을 하는 과정에 시간이 너무 많이 걸려 하지 못했음을 말씀드립니다. 수고하세요~"
   ],
   "metadata": {}
  },
  {
   "cell_type": "code",
   "execution_count": 6,
   "source": [
    "df1 = pd.read_csv('model_data/네이버평점리뷰1_2000_100321_01.csv')\r\n",
    "df1.tail()"
   ],
   "outputs": [
    {
     "output_type": "execute_result",
     "data": {
      "text/html": [
       "<div>\n",
       "<style scoped>\n",
       "    .dataframe tbody tr th:only-of-type {\n",
       "        vertical-align: middle;\n",
       "    }\n",
       "\n",
       "    .dataframe tbody tr th {\n",
       "        vertical-align: top;\n",
       "    }\n",
       "\n",
       "    .dataframe thead th {\n",
       "        text-align: right;\n",
       "    }\n",
       "</style>\n",
       "<table border=\"1\" class=\"dataframe\">\n",
       "  <thead>\n",
       "    <tr style=\"text-align: right;\">\n",
       "      <th></th>\n",
       "      <th>영화명</th>\n",
       "      <th>평점리뷰</th>\n",
       "    </tr>\n",
       "  </thead>\n",
       "  <tbody>\n",
       "    <tr>\n",
       "      <th>1677</th>\n",
       "      <td>유레루</td>\n",
       "      <td>잔잔하지만 무겁고 강렬한 일본 영화.일본영화중 BEST3안에 들어가는 작품.버스정류...</td>\n",
       "    </tr>\n",
       "    <tr>\n",
       "      <th>1678</th>\n",
       "      <td>우리 집에 왜 왔니</td>\n",
       "      <td>내가 사랑하는 사람이 날 사랑하는 건 기적이다. 이 한마디가 깊게 남는다. 그래서 ...</td>\n",
       "    </tr>\n",
       "    <tr>\n",
       "      <th>1679</th>\n",
       "      <td>리스본행 야간열차</td>\n",
       "      <td>사실 이 영화의 숨은 주인공은 교장선생님....정말 성인군자이시다와우...정말 지적...</td>\n",
       "    </tr>\n",
       "    <tr>\n",
       "      <th>1680</th>\n",
       "      <td>파프리카</td>\n",
       "      <td>영화를 보는 내내 꿈속에 있는 기분. 영화가 끝나고 나면 긴 꿈을 꾸다 잠에서 깬듯...</td>\n",
       "    </tr>\n",
       "    <tr>\n",
       "      <th>1681</th>\n",
       "      <td>블루 발렌타인</td>\n",
       "      <td>낭만적이지만 어린애 같은 남자. 사랑에 목마르지만 잔인하게 현실적인 여자딘이 반지던...</td>\n",
       "    </tr>\n",
       "  </tbody>\n",
       "</table>\n",
       "</div>"
      ],
      "text/plain": [
       "             영화명                                               평점리뷰\n",
       "1677         유레루  잔잔하지만 무겁고 강렬한 일본 영화.일본영화중 BEST3안에 들어가는 작품.버스정류...\n",
       "1678  우리 집에 왜 왔니  내가 사랑하는 사람이 날 사랑하는 건 기적이다. 이 한마디가 깊게 남는다. 그래서 ...\n",
       "1679   리스본행 야간열차  사실 이 영화의 숨은 주인공은 교장선생님....정말 성인군자이시다와우...정말 지적...\n",
       "1680        파프리카  영화를 보는 내내 꿈속에 있는 기분. 영화가 끝나고 나면 긴 꿈을 꾸다 잠에서 깬듯...\n",
       "1681     블루 발렌타인  낭만적이지만 어린애 같은 남자. 사랑에 목마르지만 잔인하게 현실적인 여자딘이 반지던..."
      ]
     },
     "metadata": {},
     "execution_count": 6
    }
   ],
   "metadata": {}
  },
  {
   "cell_type": "code",
   "execution_count": null,
   "source": [
    "df2 = pd.read_csv('model_data/네이버평점리뷰1_2000_100321_02.csv')\r\n",
    "df2.tail()"
   ],
   "outputs": [],
   "metadata": {}
  },
  {
   "cell_type": "code",
   "execution_count": 7,
   "source": [
    "df3 = pd.read_csv('model_data/네이버평점리뷰1_2000_100321_extra.csv')\r\n",
    "df3.tail()"
   ],
   "outputs": [
    {
     "output_type": "execute_result",
     "data": {
      "text/html": [
       "<div>\n",
       "<style scoped>\n",
       "    .dataframe tbody tr th:only-of-type {\n",
       "        vertical-align: middle;\n",
       "    }\n",
       "\n",
       "    .dataframe tbody tr th {\n",
       "        vertical-align: top;\n",
       "    }\n",
       "\n",
       "    .dataframe thead th {\n",
       "        text-align: right;\n",
       "    }\n",
       "</style>\n",
       "<table border=\"1\" class=\"dataframe\">\n",
       "  <thead>\n",
       "    <tr style=\"text-align: right;\">\n",
       "      <th></th>\n",
       "      <th>영화명</th>\n",
       "      <th>평점리뷰</th>\n",
       "    </tr>\n",
       "  </thead>\n",
       "  <tbody>\n",
       "    <tr>\n",
       "      <th>15</th>\n",
       "      <td>어톤먼트</td>\n",
       "      <td>진짜 브라이오니는 희대의 나쁜년임..ㅡㅡ결국 브라이니는 \"겁이 나서\" 실제로 피해자...</td>\n",
       "    </tr>\n",
       "    <tr>\n",
       "      <th>16</th>\n",
       "      <td>슬럼독 밀리어네어</td>\n",
       "      <td>우리나라에 많이 돌아다니는 자막 보면 맨 마지막에 it is written 을 '소...</td>\n",
       "    </tr>\n",
       "    <tr>\n",
       "      <th>17</th>\n",
       "      <td>원피스 필름 골드</td>\n",
       "      <td>관람객 이건 자막으로 봐야한다. 왜냐하면 '기모찌' 때문이다.관람객 조로 사자의노래...</td>\n",
       "    </tr>\n",
       "    <tr>\n",
       "      <th>18</th>\n",
       "      <td>크리드 2</td>\n",
       "      <td>록키시리즌데 국내 상영관 수 실화냐 ㅜㅜㅜ이렇게 잘 만든 영화를 수입해놓고, 상영시...</td>\n",
       "    </tr>\n",
       "    <tr>\n",
       "      <th>19</th>\n",
       "      <td>사랑보다 아름다운 유혹</td>\n",
       "      <td>라이언필립 이땐 정말 훈남이였네요 ㅠㅠ 이떄의 필립을 돌려다오 ㅠㅠ ㅋㅋ영화 괜찮았...</td>\n",
       "    </tr>\n",
       "  </tbody>\n",
       "</table>\n",
       "</div>"
      ],
      "text/plain": [
       "             영화명                                               평점리뷰\n",
       "15          어톤먼트  진짜 브라이오니는 희대의 나쁜년임..ㅡㅡ결국 브라이니는 \"겁이 나서\" 실제로 피해자...\n",
       "16     슬럼독 밀리어네어  우리나라에 많이 돌아다니는 자막 보면 맨 마지막에 it is written 을 '소...\n",
       "17     원피스 필름 골드  관람객 이건 자막으로 봐야한다. 왜냐하면 '기모찌' 때문이다.관람객 조로 사자의노래...\n",
       "18         크리드 2  록키시리즌데 국내 상영관 수 실화냐 ㅜㅜㅜ이렇게 잘 만든 영화를 수입해놓고, 상영시...\n",
       "19  사랑보다 아름다운 유혹  라이언필립 이땐 정말 훈남이였네요 ㅠㅠ 이떄의 필립을 돌려다오 ㅠㅠ ㅋㅋ영화 괜찮았..."
      ]
     },
     "metadata": {},
     "execution_count": 7
    }
   ],
   "metadata": {}
  },
  {
   "cell_type": "code",
   "execution_count": 16,
   "source": [
    "df = pd.concat([df1, df2, df3]).reset_index(drop=True)\r\n",
    "df['평점리뷰'] = df['평점리뷰'].astype(str).apply(lambda x : re.sub('관람객', '', x))\r\n",
    "df.info()"
   ],
   "outputs": [
    {
     "output_type": "stream",
     "name": "stdout",
     "text": [
      "<class 'pandas.core.frame.DataFrame'>\n",
      "RangeIndex: 1951 entries, 0 to 1950\n",
      "Data columns (total 2 columns):\n",
      " #   Column  Non-Null Count  Dtype \n",
      "---  ------  --------------  ----- \n",
      " 0   영화명     1951 non-null   object\n",
      " 1   평점리뷰    1951 non-null   object\n",
      "dtypes: object(2)\n",
      "memory usage: 30.6+ KB\n"
     ]
    }
   ],
   "metadata": {}
  },
  {
   "cell_type": "code",
   "execution_count": 19,
   "source": [
    "q.to_csv('model_data/네이버평점리뷰.csv', index=False)"
   ],
   "outputs": [],
   "metadata": {}
  },
  {
   "cell_type": "code",
   "execution_count": 23,
   "source": [
    "e = pd.read_csv('model_data/네이버평점리뷰.csv')\r\n",
    "e.info()"
   ],
   "outputs": [
    {
     "output_type": "stream",
     "name": "stdout",
     "text": [
      "<class 'pandas.core.frame.DataFrame'>\n",
      "RangeIndex: 1951 entries, 0 to 1950\n",
      "Data columns (total 2 columns):\n",
      " #   Column  Non-Null Count  Dtype \n",
      "---  ------  --------------  ----- \n",
      " 0   영화명     1951 non-null   object\n",
      " 1   평점리뷰    1951 non-null   object\n",
      "dtypes: object(2)\n",
      "memory usage: 30.6+ KB\n"
     ]
    }
   ],
   "metadata": {}
  },
  {
   "cell_type": "code",
   "execution_count": 21,
   "source": [
    "r = pd.read_csv('model_data/추가된_영화.csv')\r\n",
    "r.info()"
   ],
   "outputs": [
    {
     "output_type": "stream",
     "name": "stdout",
     "text": [
      "<class 'pandas.core.frame.DataFrame'>\n",
      "RangeIndex: 98 entries, 0 to 97\n",
      "Data columns (total 2 columns):\n",
      " #   Column  Non-Null Count  Dtype \n",
      "---  ------  --------------  ----- \n",
      " 0   영화명     98 non-null     object\n",
      " 1   블로그리뷰   98 non-null     object\n",
      "dtypes: object(2)\n",
      "memory usage: 1.7+ KB\n"
     ]
    }
   ],
   "metadata": {}
  }
 ],
 "metadata": {
  "orig_nbformat": 4,
  "language_info": {
   "name": "python",
   "version": "3.8.8",
   "mimetype": "text/x-python",
   "codemirror_mode": {
    "name": "ipython",
    "version": 3
   },
   "pygments_lexer": "ipython3",
   "nbconvert_exporter": "python",
   "file_extension": ".py"
  },
  "kernelspec": {
   "name": "python3",
   "display_name": "Python 3.8.8 64-bit ('base': conda)"
  },
  "interpreter": {
   "hash": "c5b8715a341aa9d42d2201bec25ddb46a20700ceb583018c752d891a66504678"
  }
 },
 "nbformat": 4,
 "nbformat_minor": 2
}