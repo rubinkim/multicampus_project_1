{
 "cells": [
  {
   "cell_type": "code",
   "execution_count": 1,
   "source": [
    "from selenium import webdriver\r\n",
    "from selenium.webdriver.common.keys import Keys\r\n",
    "from selenium.webdriver.support.ui import WebDriverWait\r\n",
    "from selenium.webdriver.support import expected_conditions as EC\r\n",
    "from selenium.webdriver.common.by import By\r\n",
    "from bs4 import BeautifulSoup\r\n",
    "import time\r\n",
    "import pandas as pd\r\n",
    "from urllib.parse import quote\r\n",
    "\r\n",
    "import unicodedata\r\n",
    "import re\r\n",
    "from tqdm.notebook import tqdm"
   ],
   "outputs": [],
   "metadata": {}
  },
  {
   "cell_type": "code",
   "execution_count": null,
   "source": [
    "names, credits = [], []\r\n",
    "date = '20211002'\r\n",
    "\r\n",
    "for num in tqdm(range(10001, 50000)):\r\n",
    "\r\n",
    "    try:\r\n",
    "\r\n",
    "        chromedriver = 'chromedriver.exe'\r\n",
    "        driver = webdriver.Chrome(chromedriver)\r\n",
    "        driver.maximize_window()\r\n",
    "        url = f'https://movie.naver.com/movie/bi/mi/basic.naver?code={num}'\r\n",
    "        driver.get(url)\r\n",
    "        time.sleep(2)\r\n",
    "\r\n",
    "        name = driver.find_element_by_css_selector('.h_movie').find_element_by_tag_name('a').text\r\n",
    "        \r\n",
    "        if name in titles:\r\n",
    "            driver.find_element_by_css_selector('.sub_tab_area #movieEndTabMenu .tab05.off').click()\r\n",
    "            time.sleep(2)\r\n",
    "\r\n",
    "            driver.switch_to.frame(driver.find_element_by_xpath(\"//*[@id='pointAfterListIframe']\"))\r\n",
    "            ps = driver.find_elements_by_css_selector('.score_reple p')\r\n",
    "\r\n",
    "            txt = ''\r\n",
    "            for p in ps:\r\n",
    "                txt += p.text\r\n",
    "            \r\n",
    "            time.sleep(2)\r\n",
    "                        \r\n",
    "            names.append(name)      \r\n",
    "            credits.append(txt)  \r\n",
    "\r\n",
    "        else:\r\n",
    "            continue    \r\n",
    "\r\n",
    "    except:\r\n",
    "        print(name, end=' ')\r\n"
   ],
   "outputs": [],
   "metadata": {}
  }
 ],
 "metadata": {
  "orig_nbformat": 4,
  "language_info": {
   "name": "python",
   "version": "3.8.8",
   "mimetype": "text/x-python",
   "codemirror_mode": {
    "name": "ipython",
    "version": 3
   },
   "pygments_lexer": "ipython3",
   "nbconvert_exporter": "python",
   "file_extension": ".py"
  },
  "kernelspec": {
   "name": "python3",
   "display_name": "Python 3.8.8 64-bit ('base': conda)"
  },
  "interpreter": {
   "hash": "c5b8715a341aa9d42d2201bec25ddb46a20700ceb583018c752d891a66504678"
  }
 },
 "nbformat": 4,
 "nbformat_minor": 2
}